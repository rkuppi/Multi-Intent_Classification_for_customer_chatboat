{
 "cells": [
  {
   "cell_type": "markdown",
   "id": "cfe7de21-6fc2-4555-9769-b996292f885a",
   "metadata": {},
   "source": [
    "# Problem Statement"
   ]
  },
  {
   "cell_type": "markdown",
   "id": "f2422a26-374d-40bf-a531-789d348dc55d",
   "metadata": {},
   "source": [
    "You are building a customer support chatbot for a retail company that sells products online. The goal of the chatbot is to assist customers in multiple ways, including answering product-related queries, tracking orders, handling refunds, and providing general information about store policies.\n",
    "\n",
    "Each customer query can have multiple intents, such as requesting information about a product and also asking about its availability. The chatbot should be able to classify these queries into one or more intents simultaneously. For example, the query \"What are the features of the latest phone, and can I return it?\" has two intents: one related to product information and the other related to returns.\n",
    "\n",
    "Objective:\n",
    "Create a model that can classify a given customer query into one or more intents from the following categories:\n",
    "\n",
    "- Product Inquiry - Queries related to product details (e.g., features, pricing, availability).\n",
    "\n",
    "- Order Tracking - Queries related to tracking orders (e.g., \"Where is my order?\").\n",
    "\n",
    "- Refund Request - Queries related to requesting a refund (e.g., \"How do I return this product?\").\n",
    "\n",
    "- Store Policy - Queries related to the store’s policies (e.g., return policies, delivery times).\n",
    "\n",
    "The model should be able to classify one or more intents for each query."
   ]
  },
  {
   "cell_type": "code",
   "execution_count": 1,
   "id": "a37eebb6-116b-4211-87fe-07f6426911b8",
   "metadata": {},
   "outputs": [],
   "source": [
    "import re\n",
    "import pandas as pd\n",
    "import numpy as np\n",
    "\n",
    "import random\n",
    "import nltk\n",
    "from nltk.tokenize import word_tokenize\n",
    "from nltk.corpus import stopwords\n",
    "from nltk.stem import WordNetLemmatizer\n",
    "\n",
    "from sklearn.model_selection import train_test_split\n",
    "from sklearn.preprocessing import MultiLabelBinarizer\n",
    "from sklearn.metrics import hamming_loss, precision_score, recall_score, f1_score, accuracy_score\n",
    "\n",
    "from tensorflow.keras.models import Model\n",
    "from tensorflow.keras.layers import Input, Dense, Embedding, LSTM, GlobalMaxPooling1D\n",
    "from tensorflow.keras.preprocessing.text import Tokenizer\n",
    "from tensorflow.keras.preprocessing.sequence import pad_sequences\n",
    "from tensorflow.keras.optimizers import Adam\n",
    "\n",
    "import joblib"
   ]
  },
  {
   "cell_type": "code",
   "execution_count": 2,
   "id": "26e0f755-c30e-40e0-8d56-151656f98457",
   "metadata": {},
   "outputs": [],
   "source": [
    "intents = {\n",
    "    \"Product Inquiry\": [\n",
    "        \"What are the features of this laptop?\",\n",
    "        \"Is this phone available?\",\n",
    "        \"What is the price of the new headphones?\",\n",
    "        \"Do you have this product in stock?\",\n",
    "        \"Expected avaliability date for the product\",\n",
    "        \"what are the different color options that are avaliable for the product?\",\n",
    "        \"Help me with the products that have discounts\",\n",
    "    ],\n",
    "    \"Order Tracking\": [\n",
    "        \"Where is my order?\",\n",
    "        \"How long will delivery take?\",\n",
    "        \"Can you provide the tracking details?\",\n",
    "        \"I want to check the status of my shipment.\",\n",
    "        \"There is delay in the order delivery, can you please let me know the reason\",\n",
    "        \"System shows that order is delivered but I have not reveived any order\",\n",
    "        \"I've been waiting for the order long time\"\n",
    "    ],\n",
    "    \"Refund Request\": [\n",
    "        \"How do I get a refund?\",\n",
    "        \"Can I return my order?\",\n",
    "        \"What is the process for a refund?\",\n",
    "        \"Can I cancel my order and get a refund?\",\n",
    "        \"It's been long time since I have raised the refund, but amount is not credited\",\n",
    "        \"When I can expect the refund to be processed\",\n",
    "        \"I don't what this product anymore\",\n",
    "        \"Product I received is different from the one that I placed order, need help with refund\",\n",
    "        \n",
    "    ],\n",
    "    \"Store Policy\": [\n",
    "        \"What is your return policy?\",\n",
    "        \"Do you offer free shipping?\",\n",
    "        \"Can you explain your warranty terms?\",\n",
    "        \"What are the delivery charges?\",\n",
    "        \"What are the options for free delivery\",\n",
    "    ],\n",
    "}"
   ]
  },
  {
   "cell_type": "code",
   "execution_count": 3,
   "id": "a912c689-7d0f-4d9f-ad79-a3278df88a28",
   "metadata": {},
   "outputs": [],
   "source": [
    "data = []\n",
    "for p in range(700):\n",
    "    selected_intents = random.sample(list(intents.keys()), k=random.randint(1, 3))\n",
    "    combined_query = \" and \".join(random.choice(intents[intent]) for intent in selected_intents)\n",
    "    record = {\n",
    "        \"query\": combined_query,\n",
    "        \"Product Inquiry\": int(\"Product Inquiry\" in selected_intents),\n",
    "        \"Order Tracking\": int(\"Order Tracking\" in selected_intents),\n",
    "        \"Refund Request\": int(\"Refund Request\" in selected_intents),\n",
    "        \"Store Policy\": int(\"Store Policy\" in selected_intents),\n",
    "    }\n",
    "    data.append(record)"
   ]
  },
  {
   "cell_type": "code",
   "execution_count": 4,
   "id": "23413f06-f15a-49d0-8449-09fcf818299b",
   "metadata": {},
   "outputs": [],
   "source": [
    "data = pd.DataFrame(data)\n",
    "data.to_csv(\"expanded_multi_intent_data.csv\", index=False)"
   ]
  },
  {
   "cell_type": "code",
   "execution_count": 5,
   "id": "e85e11bf-1c8a-4f32-9fd5-92a47cf9d660",
   "metadata": {},
   "outputs": [
    {
     "data": {
      "text/html": [
       "<div>\n",
       "<style scoped>\n",
       "    .dataframe tbody tr th:only-of-type {\n",
       "        vertical-align: middle;\n",
       "    }\n",
       "\n",
       "    .dataframe tbody tr th {\n",
       "        vertical-align: top;\n",
       "    }\n",
       "\n",
       "    .dataframe thead th {\n",
       "        text-align: right;\n",
       "    }\n",
       "</style>\n",
       "<table border=\"1\" class=\"dataframe\">\n",
       "  <thead>\n",
       "    <tr style=\"text-align: right;\">\n",
       "      <th></th>\n",
       "      <th>query</th>\n",
       "      <th>Product Inquiry</th>\n",
       "      <th>Order Tracking</th>\n",
       "      <th>Refund Request</th>\n",
       "      <th>Store Policy</th>\n",
       "    </tr>\n",
       "  </thead>\n",
       "  <tbody>\n",
       "    <tr>\n",
       "      <th>0</th>\n",
       "      <td>Can I cancel my order and get a refund? and I ...</td>\n",
       "      <td>1</td>\n",
       "      <td>1</td>\n",
       "      <td>1</td>\n",
       "      <td>0</td>\n",
       "    </tr>\n",
       "    <tr>\n",
       "      <th>1</th>\n",
       "      <td>What are the features of this laptop? and What...</td>\n",
       "      <td>1</td>\n",
       "      <td>0</td>\n",
       "      <td>0</td>\n",
       "      <td>1</td>\n",
       "    </tr>\n",
       "    <tr>\n",
       "      <th>2</th>\n",
       "      <td>What are the features of this laptop? and It's...</td>\n",
       "      <td>1</td>\n",
       "      <td>0</td>\n",
       "      <td>1</td>\n",
       "      <td>0</td>\n",
       "    </tr>\n",
       "    <tr>\n",
       "      <th>3</th>\n",
       "      <td>How do I get a refund?</td>\n",
       "      <td>0</td>\n",
       "      <td>0</td>\n",
       "      <td>1</td>\n",
       "      <td>0</td>\n",
       "    </tr>\n",
       "    <tr>\n",
       "      <th>4</th>\n",
       "      <td>I've been waiting for the order long time and ...</td>\n",
       "      <td>0</td>\n",
       "      <td>1</td>\n",
       "      <td>0</td>\n",
       "      <td>1</td>\n",
       "    </tr>\n",
       "    <tr>\n",
       "      <th>...</th>\n",
       "      <td>...</td>\n",
       "      <td>...</td>\n",
       "      <td>...</td>\n",
       "      <td>...</td>\n",
       "      <td>...</td>\n",
       "    </tr>\n",
       "    <tr>\n",
       "      <th>695</th>\n",
       "      <td>Can you explain your warranty terms? and Is th...</td>\n",
       "      <td>1</td>\n",
       "      <td>0</td>\n",
       "      <td>1</td>\n",
       "      <td>1</td>\n",
       "    </tr>\n",
       "    <tr>\n",
       "      <th>696</th>\n",
       "      <td>Help me with the products that have discounts</td>\n",
       "      <td>1</td>\n",
       "      <td>0</td>\n",
       "      <td>0</td>\n",
       "      <td>0</td>\n",
       "    </tr>\n",
       "    <tr>\n",
       "      <th>697</th>\n",
       "      <td>It's been long time since I have raised the re...</td>\n",
       "      <td>0</td>\n",
       "      <td>0</td>\n",
       "      <td>1</td>\n",
       "      <td>0</td>\n",
       "    </tr>\n",
       "    <tr>\n",
       "      <th>698</th>\n",
       "      <td>Expected avaliability date for the product and...</td>\n",
       "      <td>1</td>\n",
       "      <td>1</td>\n",
       "      <td>1</td>\n",
       "      <td>0</td>\n",
       "    </tr>\n",
       "    <tr>\n",
       "      <th>699</th>\n",
       "      <td>What is the process for a refund?</td>\n",
       "      <td>0</td>\n",
       "      <td>0</td>\n",
       "      <td>1</td>\n",
       "      <td>0</td>\n",
       "    </tr>\n",
       "  </tbody>\n",
       "</table>\n",
       "<p>700 rows × 5 columns</p>\n",
       "</div>"
      ],
      "text/plain": [
       "                                                 query  Product Inquiry  \\\n",
       "0    Can I cancel my order and get a refund? and I ...                1   \n",
       "1    What are the features of this laptop? and What...                1   \n",
       "2    What are the features of this laptop? and It's...                1   \n",
       "3                               How do I get a refund?                0   \n",
       "4    I've been waiting for the order long time and ...                0   \n",
       "..                                                 ...              ...   \n",
       "695  Can you explain your warranty terms? and Is th...                1   \n",
       "696      Help me with the products that have discounts                1   \n",
       "697  It's been long time since I have raised the re...                0   \n",
       "698  Expected avaliability date for the product and...                1   \n",
       "699                  What is the process for a refund?                0   \n",
       "\n",
       "     Order Tracking  Refund Request  Store Policy  \n",
       "0                 1               1             0  \n",
       "1                 0               0             1  \n",
       "2                 0               1             0  \n",
       "3                 0               1             0  \n",
       "4                 1               0             1  \n",
       "..              ...             ...           ...  \n",
       "695               0               1             1  \n",
       "696               0               0             0  \n",
       "697               0               1             0  \n",
       "698               1               1             0  \n",
       "699               0               1             0  \n",
       "\n",
       "[700 rows x 5 columns]"
      ]
     },
     "execution_count": 5,
     "metadata": {},
     "output_type": "execute_result"
    }
   ],
   "source": [
    "data"
   ]
  },
  {
   "cell_type": "code",
   "execution_count": 6,
   "id": "330fcc88-bba4-4dbe-9bec-ed25ac1cb2a9",
   "metadata": {},
   "outputs": [],
   "source": [
    "lemmatizer = WordNetLemmatizer()\n",
    "default_stop_words = set(stopwords.words(\"english\"))\n",
    "stop_words = default_stop_words - {\"and\"}"
   ]
  },
  {
   "cell_type": "code",
   "execution_count": 7,
   "id": "b7bdd616-9c36-45f3-bc4c-ab8856a1e870",
   "metadata": {},
   "outputs": [],
   "source": [
    "def expand_contractions(text):\n",
    "    contractions_dict = {\n",
    "        \"don't\": \"donot\",\n",
    "        \"can't\": \"cannot\",\n",
    "        \"won't\": \"willnot\",\n",
    "        \"isn't\": \"isnot\",\n",
    "        \"aren't\": \"arenot\",\n",
    "        \"didn't\": \"didnot\",\n",
    "        \"hasn't\": \"hasnot\",\n",
    "        \"haven't\": \"havenot\",\n",
    "        \"wasn't\": \"wasnot\",\n",
    "        \"weren't\": \"werenot\",\n",
    "        \"shouldn't\": \"shouldnot\",\n",
    "        \"couldn't\": \"couldnot\",\n",
    "        \"wouldn't\": \"wouldnot\",\n",
    "        \"I've\": \"I have\",\n",
    "        \"you've\": \"you have\",\n",
    "        \"they've\": \"they have\",\n",
    "        \"we've\": \"we have\",\n",
    "        \"I'd\": \"I would\",\n",
    "        \"you'd\": \"you would\",\n",
    "        \"he'd\": \"he would\",\n",
    "        \"she'd\": \"she would\",\n",
    "        \"that'll\": \"that will\",\n",
    "    }\n",
    "    pattern = re.compile(r'\\b(' + '|'.join(contractions_dict.keys()) + r')\\b')\n",
    "    return pattern.sub(lambda x: contractions_dict[x.group()], text)"
   ]
  },
  {
   "cell_type": "code",
   "execution_count": 8,
   "id": "c2905657-1b9e-41be-b5eb-8de7bfb66395",
   "metadata": {},
   "outputs": [],
   "source": [
    "def preprocess_query(query):\n",
    "    query = query.lower()\n",
    "    query = expand_contractions(query)\n",
    "    tokens = word_tokenize(query)\n",
    "    tokens = [word for word in tokens if word.isalnum()]\n",
    "    filtered_tokens = [word for word in tokens if word not in stop_words]\n",
    "    lemmatized_tokens = [lemmatizer.lemmatize(word) for word in filtered_tokens]\n",
    "    cleaned_query = \" \".join(lemmatized_tokens)\n",
    "    return cleaned_query"
   ]
  },
  {
   "cell_type": "code",
   "execution_count": 9,
   "id": "ad0ecd07-3960-48de-88f6-905cbdc8ec7c",
   "metadata": {},
   "outputs": [],
   "source": [
    "data[\"cleaned_query\"] = data[\"query\"].apply(preprocess_query)"
   ]
  },
  {
   "cell_type": "code",
   "execution_count": 10,
   "id": "243fdbc7-1ed2-43d1-8301-a92752cb78e2",
   "metadata": {},
   "outputs": [
    {
     "data": {
      "text/html": [
       "<div>\n",
       "<style scoped>\n",
       "    .dataframe tbody tr th:only-of-type {\n",
       "        vertical-align: middle;\n",
       "    }\n",
       "\n",
       "    .dataframe tbody tr th {\n",
       "        vertical-align: top;\n",
       "    }\n",
       "\n",
       "    .dataframe thead th {\n",
       "        text-align: right;\n",
       "    }\n",
       "</style>\n",
       "<table border=\"1\" class=\"dataframe\">\n",
       "  <thead>\n",
       "    <tr style=\"text-align: right;\">\n",
       "      <th></th>\n",
       "      <th>query</th>\n",
       "      <th>Product Inquiry</th>\n",
       "      <th>Order Tracking</th>\n",
       "      <th>Refund Request</th>\n",
       "      <th>Store Policy</th>\n",
       "      <th>cleaned_query</th>\n",
       "    </tr>\n",
       "  </thead>\n",
       "  <tbody>\n",
       "    <tr>\n",
       "      <th>0</th>\n",
       "      <td>Can I cancel my order and get a refund? and I ...</td>\n",
       "      <td>1</td>\n",
       "      <td>1</td>\n",
       "      <td>1</td>\n",
       "      <td>0</td>\n",
       "      <td>cancel order and get refund and want check sta...</td>\n",
       "    </tr>\n",
       "    <tr>\n",
       "      <th>1</th>\n",
       "      <td>What are the features of this laptop? and What...</td>\n",
       "      <td>1</td>\n",
       "      <td>0</td>\n",
       "      <td>0</td>\n",
       "      <td>1</td>\n",
       "      <td>feature laptop and option free delivery</td>\n",
       "    </tr>\n",
       "    <tr>\n",
       "      <th>2</th>\n",
       "      <td>What are the features of this laptop? and It's...</td>\n",
       "      <td>1</td>\n",
       "      <td>0</td>\n",
       "      <td>1</td>\n",
       "      <td>0</td>\n",
       "      <td>feature laptop and long time since raised refu...</td>\n",
       "    </tr>\n",
       "    <tr>\n",
       "      <th>3</th>\n",
       "      <td>How do I get a refund?</td>\n",
       "      <td>0</td>\n",
       "      <td>0</td>\n",
       "      <td>1</td>\n",
       "      <td>0</td>\n",
       "      <td>get refund</td>\n",
       "    </tr>\n",
       "    <tr>\n",
       "      <th>4</th>\n",
       "      <td>I've been waiting for the order long time and ...</td>\n",
       "      <td>0</td>\n",
       "      <td>1</td>\n",
       "      <td>0</td>\n",
       "      <td>1</td>\n",
       "      <td>waiting order long time and option free delivery</td>\n",
       "    </tr>\n",
       "    <tr>\n",
       "      <th>...</th>\n",
       "      <td>...</td>\n",
       "      <td>...</td>\n",
       "      <td>...</td>\n",
       "      <td>...</td>\n",
       "      <td>...</td>\n",
       "      <td>...</td>\n",
       "    </tr>\n",
       "    <tr>\n",
       "      <th>695</th>\n",
       "      <td>Can you explain your warranty terms? and Is th...</td>\n",
       "      <td>1</td>\n",
       "      <td>0</td>\n",
       "      <td>1</td>\n",
       "      <td>1</td>\n",
       "      <td>explain warranty term and phone available and ...</td>\n",
       "    </tr>\n",
       "    <tr>\n",
       "      <th>696</th>\n",
       "      <td>Help me with the products that have discounts</td>\n",
       "      <td>1</td>\n",
       "      <td>0</td>\n",
       "      <td>0</td>\n",
       "      <td>0</td>\n",
       "      <td>help product discount</td>\n",
       "    </tr>\n",
       "    <tr>\n",
       "      <th>697</th>\n",
       "      <td>It's been long time since I have raised the re...</td>\n",
       "      <td>0</td>\n",
       "      <td>0</td>\n",
       "      <td>1</td>\n",
       "      <td>0</td>\n",
       "      <td>long time since raised refund amount credited</td>\n",
       "    </tr>\n",
       "    <tr>\n",
       "      <th>698</th>\n",
       "      <td>Expected avaliability date for the product and...</td>\n",
       "      <td>1</td>\n",
       "      <td>1</td>\n",
       "      <td>1</td>\n",
       "      <td>0</td>\n",
       "      <td>expected avaliability date product and provide...</td>\n",
       "    </tr>\n",
       "    <tr>\n",
       "      <th>699</th>\n",
       "      <td>What is the process for a refund?</td>\n",
       "      <td>0</td>\n",
       "      <td>0</td>\n",
       "      <td>1</td>\n",
       "      <td>0</td>\n",
       "      <td>process refund</td>\n",
       "    </tr>\n",
       "  </tbody>\n",
       "</table>\n",
       "<p>700 rows × 6 columns</p>\n",
       "</div>"
      ],
      "text/plain": [
       "                                                 query  Product Inquiry  \\\n",
       "0    Can I cancel my order and get a refund? and I ...                1   \n",
       "1    What are the features of this laptop? and What...                1   \n",
       "2    What are the features of this laptop? and It's...                1   \n",
       "3                               How do I get a refund?                0   \n",
       "4    I've been waiting for the order long time and ...                0   \n",
       "..                                                 ...              ...   \n",
       "695  Can you explain your warranty terms? and Is th...                1   \n",
       "696      Help me with the products that have discounts                1   \n",
       "697  It's been long time since I have raised the re...                0   \n",
       "698  Expected avaliability date for the product and...                1   \n",
       "699                  What is the process for a refund?                0   \n",
       "\n",
       "     Order Tracking  Refund Request  Store Policy  \\\n",
       "0                 1               1             0   \n",
       "1                 0               0             1   \n",
       "2                 0               1             0   \n",
       "3                 0               1             0   \n",
       "4                 1               0             1   \n",
       "..              ...             ...           ...   \n",
       "695               0               1             1   \n",
       "696               0               0             0   \n",
       "697               0               1             0   \n",
       "698               1               1             0   \n",
       "699               0               1             0   \n",
       "\n",
       "                                         cleaned_query  \n",
       "0    cancel order and get refund and want check sta...  \n",
       "1              feature laptop and option free delivery  \n",
       "2    feature laptop and long time since raised refu...  \n",
       "3                                           get refund  \n",
       "4     waiting order long time and option free delivery  \n",
       "..                                                 ...  \n",
       "695  explain warranty term and phone available and ...  \n",
       "696                              help product discount  \n",
       "697      long time since raised refund amount credited  \n",
       "698  expected avaliability date product and provide...  \n",
       "699                                     process refund  \n",
       "\n",
       "[700 rows x 6 columns]"
      ]
     },
     "execution_count": 10,
     "metadata": {},
     "output_type": "execute_result"
    }
   ],
   "source": [
    "data"
   ]
  },
  {
   "cell_type": "code",
   "execution_count": 11,
   "id": "e2cb6d64-da36-4d01-abb0-90c5213b36f8",
   "metadata": {},
   "outputs": [],
   "source": [
    "data = data.drop(columns=[\"query\"])\n",
    "data = data[[\"cleaned_query\"] + [col for col in data.columns if col != \"cleaned_query\"]]"
   ]
  },
  {
   "cell_type": "code",
   "execution_count": 12,
   "id": "5d2f393d-c927-453c-8184-e68293a1ea65",
   "metadata": {},
   "outputs": [
    {
     "data": {
      "text/html": [
       "<div>\n",
       "<style scoped>\n",
       "    .dataframe tbody tr th:only-of-type {\n",
       "        vertical-align: middle;\n",
       "    }\n",
       "\n",
       "    .dataframe tbody tr th {\n",
       "        vertical-align: top;\n",
       "    }\n",
       "\n",
       "    .dataframe thead th {\n",
       "        text-align: right;\n",
       "    }\n",
       "</style>\n",
       "<table border=\"1\" class=\"dataframe\">\n",
       "  <thead>\n",
       "    <tr style=\"text-align: right;\">\n",
       "      <th></th>\n",
       "      <th>cleaned_query</th>\n",
       "      <th>Product Inquiry</th>\n",
       "      <th>Order Tracking</th>\n",
       "      <th>Refund Request</th>\n",
       "      <th>Store Policy</th>\n",
       "    </tr>\n",
       "  </thead>\n",
       "  <tbody>\n",
       "    <tr>\n",
       "      <th>0</th>\n",
       "      <td>cancel order and get refund and want check sta...</td>\n",
       "      <td>1</td>\n",
       "      <td>1</td>\n",
       "      <td>1</td>\n",
       "      <td>0</td>\n",
       "    </tr>\n",
       "    <tr>\n",
       "      <th>1</th>\n",
       "      <td>feature laptop and option free delivery</td>\n",
       "      <td>1</td>\n",
       "      <td>0</td>\n",
       "      <td>0</td>\n",
       "      <td>1</td>\n",
       "    </tr>\n",
       "    <tr>\n",
       "      <th>2</th>\n",
       "      <td>feature laptop and long time since raised refu...</td>\n",
       "      <td>1</td>\n",
       "      <td>0</td>\n",
       "      <td>1</td>\n",
       "      <td>0</td>\n",
       "    </tr>\n",
       "    <tr>\n",
       "      <th>3</th>\n",
       "      <td>get refund</td>\n",
       "      <td>0</td>\n",
       "      <td>0</td>\n",
       "      <td>1</td>\n",
       "      <td>0</td>\n",
       "    </tr>\n",
       "    <tr>\n",
       "      <th>4</th>\n",
       "      <td>waiting order long time and option free delivery</td>\n",
       "      <td>0</td>\n",
       "      <td>1</td>\n",
       "      <td>0</td>\n",
       "      <td>1</td>\n",
       "    </tr>\n",
       "    <tr>\n",
       "      <th>...</th>\n",
       "      <td>...</td>\n",
       "      <td>...</td>\n",
       "      <td>...</td>\n",
       "      <td>...</td>\n",
       "      <td>...</td>\n",
       "    </tr>\n",
       "    <tr>\n",
       "      <th>695</th>\n",
       "      <td>explain warranty term and phone available and ...</td>\n",
       "      <td>1</td>\n",
       "      <td>0</td>\n",
       "      <td>1</td>\n",
       "      <td>1</td>\n",
       "    </tr>\n",
       "    <tr>\n",
       "      <th>696</th>\n",
       "      <td>help product discount</td>\n",
       "      <td>1</td>\n",
       "      <td>0</td>\n",
       "      <td>0</td>\n",
       "      <td>0</td>\n",
       "    </tr>\n",
       "    <tr>\n",
       "      <th>697</th>\n",
       "      <td>long time since raised refund amount credited</td>\n",
       "      <td>0</td>\n",
       "      <td>0</td>\n",
       "      <td>1</td>\n",
       "      <td>0</td>\n",
       "    </tr>\n",
       "    <tr>\n",
       "      <th>698</th>\n",
       "      <td>expected avaliability date product and provide...</td>\n",
       "      <td>1</td>\n",
       "      <td>1</td>\n",
       "      <td>1</td>\n",
       "      <td>0</td>\n",
       "    </tr>\n",
       "    <tr>\n",
       "      <th>699</th>\n",
       "      <td>process refund</td>\n",
       "      <td>0</td>\n",
       "      <td>0</td>\n",
       "      <td>1</td>\n",
       "      <td>0</td>\n",
       "    </tr>\n",
       "  </tbody>\n",
       "</table>\n",
       "<p>700 rows × 5 columns</p>\n",
       "</div>"
      ],
      "text/plain": [
       "                                         cleaned_query  Product Inquiry  \\\n",
       "0    cancel order and get refund and want check sta...                1   \n",
       "1              feature laptop and option free delivery                1   \n",
       "2    feature laptop and long time since raised refu...                1   \n",
       "3                                           get refund                0   \n",
       "4     waiting order long time and option free delivery                0   \n",
       "..                                                 ...              ...   \n",
       "695  explain warranty term and phone available and ...                1   \n",
       "696                              help product discount                1   \n",
       "697      long time since raised refund amount credited                0   \n",
       "698  expected avaliability date product and provide...                1   \n",
       "699                                     process refund                0   \n",
       "\n",
       "     Order Tracking  Refund Request  Store Policy  \n",
       "0                 1               1             0  \n",
       "1                 0               0             1  \n",
       "2                 0               1             0  \n",
       "3                 0               1             0  \n",
       "4                 1               0             1  \n",
       "..              ...             ...           ...  \n",
       "695               0               1             1  \n",
       "696               0               0             0  \n",
       "697               0               1             0  \n",
       "698               1               1             0  \n",
       "699               0               1             0  \n",
       "\n",
       "[700 rows x 5 columns]"
      ]
     },
     "execution_count": 12,
     "metadata": {},
     "output_type": "execute_result"
    }
   ],
   "source": [
    "data"
   ]
  },
  {
   "cell_type": "code",
   "execution_count": 13,
   "id": "8da17c05-4d31-4824-8e99-1e5d80cd9b82",
   "metadata": {},
   "outputs": [],
   "source": [
    "X = data[\"cleaned_query\"]\n",
    "y = data.drop(columns=[\"cleaned_query\"])"
   ]
  },
  {
   "cell_type": "code",
   "execution_count": 14,
   "id": "795616ec-ce81-4eec-aea8-2c232ca096c7",
   "metadata": {},
   "outputs": [],
   "source": [
    "tokenizer = Tokenizer(num_words=10000)\n",
    "tokenizer.fit_on_texts(X)\n",
    "X = tokenizer.texts_to_sequences(X)\n",
    "X = pad_sequences(X, maxlen=100)"
   ]
  },
  {
   "cell_type": "code",
   "execution_count": 15,
   "id": "ce5c7104-dc21-4068-a494-dc1e4e95dee4",
   "metadata": {},
   "outputs": [
    {
     "data": {
      "text/plain": [
       "['tokenizer.pkl']"
      ]
     },
     "execution_count": 15,
     "metadata": {},
     "output_type": "execute_result"
    }
   ],
   "source": [
    "joblib.dump(tokenizer, 'tokenizer.pkl')"
   ]
  },
  {
   "cell_type": "code",
   "execution_count": 16,
   "id": "985d433d-51ff-48b6-85d0-0b647a638855",
   "metadata": {},
   "outputs": [],
   "source": [
    "X_train, X_test, y_train, y_test = train_test_split(X, y, test_size=0.2, random_state=42)"
   ]
  },
  {
   "cell_type": "code",
   "execution_count": 17,
   "id": "9d68ceb3-a484-44b2-b939-ad8a025a047f",
   "metadata": {},
   "outputs": [],
   "source": [
    "input_layer = Input(shape=(100,))\n",
    "embedding_layer = Embedding(input_dim=10000, output_dim=128)(input_layer)\n",
    "lstm_layer = LSTM(128, return_sequences=True)(embedding_layer)\n",
    "global_max_pooling_layer = GlobalMaxPooling1D()(lstm_layer)\n",
    "dense_layer = Dense(64, activation=\"relu\")(global_max_pooling_layer)\n",
    "output_layer = Dense(y.shape[1], activation=\"sigmoid\")(dense_layer)"
   ]
  },
  {
   "cell_type": "code",
   "execution_count": 18,
   "id": "f4f80bb0-709a-41e9-9d01-1317b25e60e7",
   "metadata": {},
   "outputs": [],
   "source": [
    "model = Model(inputs=input_layer, outputs=output_layer)"
   ]
  },
  {
   "cell_type": "code",
   "execution_count": 19,
   "id": "892e87ad-b412-466f-8f8b-c74f13cf2ad1",
   "metadata": {},
   "outputs": [
    {
     "data": {
      "text/html": [
       "<pre style=\"white-space:pre;overflow-x:auto;line-height:normal;font-family:Menlo,'DejaVu Sans Mono',consolas,'Courier New',monospace\"><span style=\"font-weight: bold\">Model: \"functional\"</span>\n",
       "</pre>\n"
      ],
      "text/plain": [
       "\u001b[1mModel: \"functional\"\u001b[0m\n"
      ]
     },
     "metadata": {},
     "output_type": "display_data"
    },
    {
     "data": {
      "text/html": [
       "<pre style=\"white-space:pre;overflow-x:auto;line-height:normal;font-family:Menlo,'DejaVu Sans Mono',consolas,'Courier New',monospace\">┏━━━━━━━━━━━━━━━━━━━━━━━━━━━━━━━━━━━━━━┳━━━━━━━━━━━━━━━━━━━━━━━━━━━━━┳━━━━━━━━━━━━━━━━━┓\n",
       "┃<span style=\"font-weight: bold\"> Layer (type)                         </span>┃<span style=\"font-weight: bold\"> Output Shape                </span>┃<span style=\"font-weight: bold\">         Param # </span>┃\n",
       "┡━━━━━━━━━━━━━━━━━━━━━━━━━━━━━━━━━━━━━━╇━━━━━━━━━━━━━━━━━━━━━━━━━━━━━╇━━━━━━━━━━━━━━━━━┩\n",
       "│ input_layer (<span style=\"color: #0087ff; text-decoration-color: #0087ff\">InputLayer</span>)             │ (<span style=\"color: #00d7ff; text-decoration-color: #00d7ff\">None</span>, <span style=\"color: #00af00; text-decoration-color: #00af00\">100</span>)                 │               <span style=\"color: #00af00; text-decoration-color: #00af00\">0</span> │\n",
       "├──────────────────────────────────────┼─────────────────────────────┼─────────────────┤\n",
       "│ embedding (<span style=\"color: #0087ff; text-decoration-color: #0087ff\">Embedding</span>)                │ (<span style=\"color: #00d7ff; text-decoration-color: #00d7ff\">None</span>, <span style=\"color: #00af00; text-decoration-color: #00af00\">100</span>, <span style=\"color: #00af00; text-decoration-color: #00af00\">128</span>)            │       <span style=\"color: #00af00; text-decoration-color: #00af00\">1,280,000</span> │\n",
       "├──────────────────────────────────────┼─────────────────────────────┼─────────────────┤\n",
       "│ lstm (<span style=\"color: #0087ff; text-decoration-color: #0087ff\">LSTM</span>)                          │ (<span style=\"color: #00d7ff; text-decoration-color: #00d7ff\">None</span>, <span style=\"color: #00af00; text-decoration-color: #00af00\">100</span>, <span style=\"color: #00af00; text-decoration-color: #00af00\">128</span>)            │         <span style=\"color: #00af00; text-decoration-color: #00af00\">131,584</span> │\n",
       "├──────────────────────────────────────┼─────────────────────────────┼─────────────────┤\n",
       "│ global_max_pooling1d                 │ (<span style=\"color: #00d7ff; text-decoration-color: #00d7ff\">None</span>, <span style=\"color: #00af00; text-decoration-color: #00af00\">128</span>)                 │               <span style=\"color: #00af00; text-decoration-color: #00af00\">0</span> │\n",
       "│ (<span style=\"color: #0087ff; text-decoration-color: #0087ff\">GlobalMaxPooling1D</span>)                 │                             │                 │\n",
       "├──────────────────────────────────────┼─────────────────────────────┼─────────────────┤\n",
       "│ dense (<span style=\"color: #0087ff; text-decoration-color: #0087ff\">Dense</span>)                        │ (<span style=\"color: #00d7ff; text-decoration-color: #00d7ff\">None</span>, <span style=\"color: #00af00; text-decoration-color: #00af00\">64</span>)                  │           <span style=\"color: #00af00; text-decoration-color: #00af00\">8,256</span> │\n",
       "├──────────────────────────────────────┼─────────────────────────────┼─────────────────┤\n",
       "│ dense_1 (<span style=\"color: #0087ff; text-decoration-color: #0087ff\">Dense</span>)                      │ (<span style=\"color: #00d7ff; text-decoration-color: #00d7ff\">None</span>, <span style=\"color: #00af00; text-decoration-color: #00af00\">4</span>)                   │             <span style=\"color: #00af00; text-decoration-color: #00af00\">260</span> │\n",
       "└──────────────────────────────────────┴─────────────────────────────┴─────────────────┘\n",
       "</pre>\n"
      ],
      "text/plain": [
       "┏━━━━━━━━━━━━━━━━━━━━━━━━━━━━━━━━━━━━━━┳━━━━━━━━━━━━━━━━━━━━━━━━━━━━━┳━━━━━━━━━━━━━━━━━┓\n",
       "┃\u001b[1m \u001b[0m\u001b[1mLayer (type)                        \u001b[0m\u001b[1m \u001b[0m┃\u001b[1m \u001b[0m\u001b[1mOutput Shape               \u001b[0m\u001b[1m \u001b[0m┃\u001b[1m \u001b[0m\u001b[1m        Param #\u001b[0m\u001b[1m \u001b[0m┃\n",
       "┡━━━━━━━━━━━━━━━━━━━━━━━━━━━━━━━━━━━━━━╇━━━━━━━━━━━━━━━━━━━━━━━━━━━━━╇━━━━━━━━━━━━━━━━━┩\n",
       "│ input_layer (\u001b[38;5;33mInputLayer\u001b[0m)             │ (\u001b[38;5;45mNone\u001b[0m, \u001b[38;5;34m100\u001b[0m)                 │               \u001b[38;5;34m0\u001b[0m │\n",
       "├──────────────────────────────────────┼─────────────────────────────┼─────────────────┤\n",
       "│ embedding (\u001b[38;5;33mEmbedding\u001b[0m)                │ (\u001b[38;5;45mNone\u001b[0m, \u001b[38;5;34m100\u001b[0m, \u001b[38;5;34m128\u001b[0m)            │       \u001b[38;5;34m1,280,000\u001b[0m │\n",
       "├──────────────────────────────────────┼─────────────────────────────┼─────────────────┤\n",
       "│ lstm (\u001b[38;5;33mLSTM\u001b[0m)                          │ (\u001b[38;5;45mNone\u001b[0m, \u001b[38;5;34m100\u001b[0m, \u001b[38;5;34m128\u001b[0m)            │         \u001b[38;5;34m131,584\u001b[0m │\n",
       "├──────────────────────────────────────┼─────────────────────────────┼─────────────────┤\n",
       "│ global_max_pooling1d                 │ (\u001b[38;5;45mNone\u001b[0m, \u001b[38;5;34m128\u001b[0m)                 │               \u001b[38;5;34m0\u001b[0m │\n",
       "│ (\u001b[38;5;33mGlobalMaxPooling1D\u001b[0m)                 │                             │                 │\n",
       "├──────────────────────────────────────┼─────────────────────────────┼─────────────────┤\n",
       "│ dense (\u001b[38;5;33mDense\u001b[0m)                        │ (\u001b[38;5;45mNone\u001b[0m, \u001b[38;5;34m64\u001b[0m)                  │           \u001b[38;5;34m8,256\u001b[0m │\n",
       "├──────────────────────────────────────┼─────────────────────────────┼─────────────────┤\n",
       "│ dense_1 (\u001b[38;5;33mDense\u001b[0m)                      │ (\u001b[38;5;45mNone\u001b[0m, \u001b[38;5;34m4\u001b[0m)                   │             \u001b[38;5;34m260\u001b[0m │\n",
       "└──────────────────────────────────────┴─────────────────────────────┴─────────────────┘\n"
      ]
     },
     "metadata": {},
     "output_type": "display_data"
    },
    {
     "data": {
      "text/html": [
       "<pre style=\"white-space:pre;overflow-x:auto;line-height:normal;font-family:Menlo,'DejaVu Sans Mono',consolas,'Courier New',monospace\"><span style=\"font-weight: bold\"> Total params: </span><span style=\"color: #00af00; text-decoration-color: #00af00\">1,420,100</span> (5.42 MB)\n",
       "</pre>\n"
      ],
      "text/plain": [
       "\u001b[1m Total params: \u001b[0m\u001b[38;5;34m1,420,100\u001b[0m (5.42 MB)\n"
      ]
     },
     "metadata": {},
     "output_type": "display_data"
    },
    {
     "data": {
      "text/html": [
       "<pre style=\"white-space:pre;overflow-x:auto;line-height:normal;font-family:Menlo,'DejaVu Sans Mono',consolas,'Courier New',monospace\"><span style=\"font-weight: bold\"> Trainable params: </span><span style=\"color: #00af00; text-decoration-color: #00af00\">1,420,100</span> (5.42 MB)\n",
       "</pre>\n"
      ],
      "text/plain": [
       "\u001b[1m Trainable params: \u001b[0m\u001b[38;5;34m1,420,100\u001b[0m (5.42 MB)\n"
      ]
     },
     "metadata": {},
     "output_type": "display_data"
    },
    {
     "data": {
      "text/html": [
       "<pre style=\"white-space:pre;overflow-x:auto;line-height:normal;font-family:Menlo,'DejaVu Sans Mono',consolas,'Courier New',monospace\"><span style=\"font-weight: bold\"> Non-trainable params: </span><span style=\"color: #00af00; text-decoration-color: #00af00\">0</span> (0.00 B)\n",
       "</pre>\n"
      ],
      "text/plain": [
       "\u001b[1m Non-trainable params: \u001b[0m\u001b[38;5;34m0\u001b[0m (0.00 B)\n"
      ]
     },
     "metadata": {},
     "output_type": "display_data"
    }
   ],
   "source": [
    "model.summary()"
   ]
  },
  {
   "cell_type": "code",
   "execution_count": 20,
   "id": "4902d3fe-f2ae-442d-800a-8146f7a97ec9",
   "metadata": {},
   "outputs": [],
   "source": [
    "model.compile(optimizer=Adam(), loss='binary_crossentropy', metrics=['accuracy'])"
   ]
  },
  {
   "cell_type": "code",
   "execution_count": 21,
   "id": "8662bf38-710a-4a48-82d0-931c0256db78",
   "metadata": {},
   "outputs": [
    {
     "name": "stdout",
     "output_type": "stream",
     "text": [
      "Epoch 1/5\n",
      "\u001b[1m18/18\u001b[0m \u001b[32m━━━━━━━━━━━━━━━━━━━━\u001b[0m\u001b[37m\u001b[0m \u001b[1m4s\u001b[0m 112ms/step - accuracy: 0.1192 - loss: 0.6897 - val_accuracy: 0.1643 - val_loss: 0.6653\n",
      "Epoch 2/5\n",
      "\u001b[1m18/18\u001b[0m \u001b[32m━━━━━━━━━━━━━━━━━━━━\u001b[0m\u001b[37m\u001b[0m \u001b[1m2s\u001b[0m 96ms/step - accuracy: 0.2088 - loss: 0.6462 - val_accuracy: 0.3357 - val_loss: 0.5854\n",
      "Epoch 3/5\n",
      "\u001b[1m18/18\u001b[0m \u001b[32m━━━━━━━━━━━━━━━━━━━━\u001b[0m\u001b[37m\u001b[0m \u001b[1m2s\u001b[0m 96ms/step - accuracy: 0.3142 - loss: 0.5772 - val_accuracy: 0.3071 - val_loss: 0.4948\n",
      "Epoch 4/5\n",
      "\u001b[1m18/18\u001b[0m \u001b[32m━━━━━━━━━━━━━━━━━━━━\u001b[0m\u001b[37m\u001b[0m \u001b[1m2s\u001b[0m 98ms/step - accuracy: 0.4677 - loss: 0.4504 - val_accuracy: 0.5214 - val_loss: 0.3001\n",
      "Epoch 5/5\n",
      "\u001b[1m18/18\u001b[0m \u001b[32m━━━━━━━━━━━━━━━━━━━━\u001b[0m\u001b[37m\u001b[0m \u001b[1m2s\u001b[0m 127ms/step - accuracy: 0.5845 - loss: 0.2547 - val_accuracy: 0.6000 - val_loss: 0.1465\n"
     ]
    },
    {
     "data": {
      "text/plain": [
       "<keras.src.callbacks.history.History at 0x2f33ed856a0>"
      ]
     },
     "execution_count": 21,
     "metadata": {},
     "output_type": "execute_result"
    }
   ],
   "source": [
    "model.fit(X_train, y_train, epochs=5, batch_size=32, validation_data=(X_test, y_test))"
   ]
  },
  {
   "cell_type": "code",
   "execution_count": 22,
   "id": "fe4d51f0-dbe8-44ae-902b-304ee285a255",
   "metadata": {},
   "outputs": [
    {
     "name": "stdout",
     "output_type": "stream",
     "text": [
      "\u001b[1m5/5\u001b[0m \u001b[32m━━━━━━━━━━━━━━━━━━━━\u001b[0m\u001b[37m\u001b[0m \u001b[1m0s\u001b[0m 71ms/step \n"
     ]
    }
   ],
   "source": [
    "y_pred = model.predict(X_test)"
   ]
  },
  {
   "cell_type": "code",
   "execution_count": 23,
   "id": "020a5c21-1657-48ea-81e6-0b57a5c7253c",
   "metadata": {},
   "outputs": [],
   "source": [
    "y_pred_binary = (y_pred > 0.5)"
   ]
  },
  {
   "cell_type": "code",
   "execution_count": 24,
   "id": "078c71b5-dfdc-45bf-b3d1-524fc6224f6f",
   "metadata": {},
   "outputs": [],
   "source": [
    "hamming = hamming_loss(y_test, y_pred_binary)\n",
    "precision = precision_score(y_test, y_pred_binary, average=\"micro\")\n",
    "recall = recall_score(y_test, y_pred_binary, average=\"micro\")\n",
    "f1 = f1_score(y_test, y_pred_binary, average=\"micro\")\n",
    "subset_accuracy = accuracy_score(y_test, y_pred_binary)"
   ]
  },
  {
   "cell_type": "code",
   "execution_count": 25,
   "id": "f446abe3-de45-4205-9edd-c46ae2a660d9",
   "metadata": {},
   "outputs": [
    {
     "name": "stdout",
     "output_type": "stream",
     "text": [
      "Hamming Loss: 0.0375\n",
      "Precision: 0.9794520547945206\n",
      "Recall: 0.9501661129568106\n",
      "F1 Score: 0.9645868465430016\n",
      "Subset Accuracy: 0.8571428571428571\n"
     ]
    }
   ],
   "source": [
    "print(f\"Hamming Loss: {hamming}\")\n",
    "print(f\"Precision: {precision}\")\n",
    "print(f\"Recall: {recall}\")\n",
    "print(f\"F1 Score: {f1}\")\n",
    "print(f\"Subset Accuracy: {subset_accuracy}\")"
   ]
  },
  {
   "cell_type": "code",
   "execution_count": 26,
   "id": "62506d7d-2922-473b-981a-700046a55766",
   "metadata": {},
   "outputs": [],
   "source": [
    "embedding_weights = model.layers[1].get_weights()[0]\n",
    "np.save(\"embeddings.npy\", embedding_weights)"
   ]
  },
  {
   "cell_type": "code",
   "execution_count": 27,
   "id": "f2107a0b-d321-4b6c-ac33-26a1e6d3b335",
   "metadata": {},
   "outputs": [
    {
     "data": {
      "text/plain": [
       "['multi_label_intent_model.pkl']"
      ]
     },
     "execution_count": 27,
     "metadata": {},
     "output_type": "execute_result"
    }
   ],
   "source": [
    "joblib.dump(model, 'multi_label_intent_model.pkl')"
   ]
  },
  {
   "cell_type": "code",
   "execution_count": 28,
   "id": "d1a127d5-5abe-4333-84f5-e36facb0f7e7",
   "metadata": {},
   "outputs": [
    {
     "name": "stderr",
     "output_type": "stream",
     "text": [
      "WARNING:absl:You are saving your model as an HDF5 file via `model.save()` or `keras.saving.save_model(model)`. This file format is considered legacy. We recommend using instead the native Keras format, e.g. `model.save('my_model.keras')` or `keras.saving.save_model(model, 'my_model.keras')`. \n"
     ]
    }
   ],
   "source": [
    "model.save('multi_label_intent_model.h5')"
   ]
  },
  {
   "cell_type": "code",
   "execution_count": 29,
   "id": "ba6e5a38-7f74-4bff-89df-2b1047ca17d0",
   "metadata": {},
   "outputs": [],
   "source": [
    "embedding_weights = model.layers[1].get_weights()[0]\n",
    "np.save('embeddings.npy', embedding_weights)"
   ]
  }
 ],
 "metadata": {
  "kernelspec": {
   "display_name": "Python 3 (ipykernel)",
   "language": "python",
   "name": "python3"
  },
  "language_info": {
   "codemirror_mode": {
    "name": "ipython",
    "version": 3
   },
   "file_extension": ".py",
   "mimetype": "text/x-python",
   "name": "python",
   "nbconvert_exporter": "python",
   "pygments_lexer": "ipython3",
   "version": "3.9.10"
  }
 },
 "nbformat": 4,
 "nbformat_minor": 5
}
